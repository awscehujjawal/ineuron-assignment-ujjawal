{
 "cells": [
  {
   "cell_type": "code",
   "execution_count": null,
   "metadata": {},
   "outputs": [],
   "source": [
    "\n",
    "QUESTION 1 :\n",
    "    \n",
    "As value will be any entity which has some weight and expression is an operation which can be performed so we can divide as follows :\n",
    "\n",
    "*    =   EXPRESSION\n",
    "'hello' = VALUE\n",
    "-87.8 = VALUE \n",
    "-   = EXPRESSION\n",
    "/ = EXPRESSION\n",
    "+\t= EXPRESSION\n",
    "6 = VALUE \n",
    "\n",
    "\n",
    "--------------------------------------------------------------------------------------------------------------------------------\n",
    "\n",
    "    QUESTION 2 :\n",
    "    \n",
    "    \n",
    "    VARIABLE : it can be used for storing a entity , variable can be  'a','x'\n",
    "        \n",
    "        \n",
    "    STRING :  it can be group of single entity like \"name\", \"mail\", \"course\"\n",
    "        \n",
    "       # x= name , so here x is variable and name is string\n",
    "    \n",
    "    -----------------------------------------------------------------------------------------------------------------------------\n",
    "    \n",
    "    QUESTION 3:\n",
    "        \n",
    "        There are various data types like int, float, str, bool, complex, list, tuples, dict.\n",
    "        \n",
    "        int=4\n",
    "        float=4.0\n",
    "        str=\"ujjawal\"\n",
    "        \n",
    "        ------------------------------------------------------------------------------------------------------------------------\n",
    "        \n",
    "    QUESTION 4:\n",
    "        \n",
    "   # Expression can be made upof the mathematical operators like +,-,*,%,/ , expression can be used to perform operation on operands \n",
    "#and derive values after doing operations .\n",
    "\n",
    "--------------------------------------------------------------------------------------------------------------------------------------\n",
    "        \n",
    "    QUESTION 5 :\n",
    "        \n",
    "Expression can be made upof operands like +,- to evaluate some value and Statement is used to do some action on variables like print,\n",
    "assign , take input.\n",
    "\n",
    "--------------------------------------------------------------------------------------------------------------------------------------\n",
    "\n",
    "QUESTION 6 :\n",
    "    \n",
    "    \n",
    "    \n",
    "    \n",
    "\n",
    "        \n"
   ]
  },
  {
   "cell_type": "code",
   "execution_count": 1,
   "metadata": {},
   "outputs": [],
   "source": [
    "bacon=22\n"
   ]
  },
  {
   "cell_type": "code",
   "execution_count": 2,
   "metadata": {},
   "outputs": [
    {
     "data": {
      "text/plain": [
       "22"
      ]
     },
     "execution_count": 2,
     "metadata": {},
     "output_type": "execute_result"
    }
   ],
   "source": [
    "bacon"
   ]
  },
  {
   "cell_type": "code",
   "execution_count": 3,
   "metadata": {},
   "outputs": [
    {
     "data": {
      "text/plain": [
       "23"
      ]
     },
     "execution_count": 3,
     "metadata": {},
     "output_type": "execute_result"
    }
   ],
   "source": [
    "bacon +1\n"
   ]
  },
  {
   "cell_type": "code",
   "execution_count": 4,
   "metadata": {},
   "outputs": [
    {
     "data": {
      "text/plain": [
       "'spamspamspam'"
      ]
     },
     "execution_count": 4,
     "metadata": {},
     "output_type": "execute_result"
    }
   ],
   "source": [
    "#  QUESTION 7 :\n",
    "\n",
    "\n",
    "\n",
    "'spam'+'spamspam'"
   ]
  },
  {
   "cell_type": "code",
   "execution_count": 6,
   "metadata": {},
   "outputs": [
    {
     "data": {
      "text/plain": [
       "'spamspamspam'"
      ]
     },
     "execution_count": 6,
     "metadata": {},
     "output_type": "execute_result"
    }
   ],
   "source": [
    "#\n",
    "\n",
    "\n",
    "'spam'*3"
   ]
  },
  {
   "cell_type": "code",
   "execution_count": null,
   "metadata": {},
   "outputs": [],
   "source": [
    "\n",
    "QUESTION 8\n",
    "\n",
    " #Eggs can be a valid variable as it can be used to store a int type value or float value so it can work as a container .\n",
    "    \n",
    "100 is not used as a valid variable as it is a int type and it can't be used to store any information in it .\n"
   ]
  },
  {
   "cell_type": "code",
   "execution_count": null,
   "metadata": {},
   "outputs": [],
   "source": [
    "\n",
    "    QUESTION 9 :\n",
    "        \n",
    "        I am not able to understand the question as what is asked but as per my understanding i am writing that input function can be \n",
    "        used for taking values . \n",
    "        \n",
    "        "
   ]
  },
  {
   "cell_type": "code",
   "execution_count": 8,
   "metadata": {},
   "outputs": [
    {
     "name": "stdout",
     "output_type": "stream",
     "text": [
      "ENTER INTEGER6\n"
     ]
    }
   ],
   "source": [
    "a=int(input(\"ENTER INTEGER\"))"
   ]
  },
  {
   "cell_type": "code",
   "execution_count": 9,
   "metadata": {},
   "outputs": [
    {
     "data": {
      "text/plain": [
       "6"
      ]
     },
     "execution_count": 9,
     "metadata": {},
     "output_type": "execute_result"
    }
   ],
   "source": [
    "a"
   ]
  },
  {
   "cell_type": "code",
   "execution_count": 10,
   "metadata": {},
   "outputs": [
    {
     "name": "stdout",
     "output_type": "stream",
     "text": [
      "ENTER FLOAT6.0\n"
     ]
    }
   ],
   "source": [
    "a=float(input(\"ENTER FLOAT\"))"
   ]
  },
  {
   "cell_type": "code",
   "execution_count": 11,
   "metadata": {},
   "outputs": [
    {
     "data": {
      "text/plain": [
       "6.0"
      ]
     },
     "execution_count": 11,
     "metadata": {},
     "output_type": "execute_result"
    }
   ],
   "source": [
    "a"
   ]
  },
  {
   "cell_type": "code",
   "execution_count": 13,
   "metadata": {},
   "outputs": [
    {
     "name": "stdout",
     "output_type": "stream",
     "text": [
      "ENTER STRINGUJJAWAL\n"
     ]
    }
   ],
   "source": [
    "a=str(input(\"ENTER STRING\"))"
   ]
  },
  {
   "cell_type": "code",
   "execution_count": 14,
   "metadata": {},
   "outputs": [
    {
     "data": {
      "text/plain": [
       "'UJJAWAL'"
      ]
     },
     "execution_count": 14,
     "metadata": {},
     "output_type": "execute_result"
    }
   ],
   "source": [
    "a"
   ]
  },
  {
   "cell_type": "code",
   "execution_count": 15,
   "metadata": {},
   "outputs": [
    {
     "ename": "SyntaxError",
     "evalue": "invalid syntax (<ipython-input-15-16743bd23a90>, line 1)",
     "output_type": "error",
     "traceback": [
      "\u001b[1;36m  File \u001b[1;32m\"<ipython-input-15-16743bd23a90>\"\u001b[1;36m, line \u001b[1;32m1\u001b[0m\n\u001b[1;33m    QUESTION 10 :\u001b[0m\n\u001b[1;37m             ^\u001b[0m\n\u001b[1;31mSyntaxError\u001b[0m\u001b[1;31m:\u001b[0m invalid syntax\n"
     ]
    }
   ],
   "source": [
    "QUESTION 10 : \n",
    "    \n",
    "  # WRONG =   'I have eaten ' + 99 + ' burritos.'"
   ]
  },
  {
   "cell_type": "code",
   "execution_count": null,
   "metadata": {},
   "outputs": [],
   "source": []
  },
  {
   "cell_type": "code",
   "execution_count": 16,
   "metadata": {},
   "outputs": [],
   "source": [
    "# correct = 'I have eaten ' + '99' + ' burritos.'"
   ]
  },
  {
   "cell_type": "code",
   "execution_count": null,
   "metadata": {},
   "outputs": [],
   "source": []
  }
 ],
 "metadata": {
  "kernelspec": {
   "display_name": "Python 3",
   "language": "python",
   "name": "python3"
  },
  "language_info": {
   "codemirror_mode": {
    "name": "ipython",
    "version": 3
   },
   "file_extension": ".py",
   "mimetype": "text/x-python",
   "name": "python",
   "nbconvert_exporter": "python",
   "pygments_lexer": "ipython3",
   "version": "3.8.5"
  }
 },
 "nbformat": 4,
 "nbformat_minor": 4
}
